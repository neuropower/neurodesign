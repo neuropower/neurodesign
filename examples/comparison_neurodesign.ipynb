{
 "cells": [
  {
   "cell_type": "markdown",
   "metadata": {},
   "source": [
    "# Neurodesign comparison of design generators\n",
    "\n",
    "In this notebook, we will compare 3 methods to generate an experimental design:\n",
    "- a design optimised using the genetic algorithm\n",
    "- a design optimised using simulations\n",
    "- a randomly drawn design\n",
    "\n",
    "We will do so using simulations: what is the resulting observed power when we simulate experiments according to the three designs.\n",
    "\n",
    "## Requirements\n",
    "\n",
    "Seaborn needs to be installed to plot some figures."
   ]
  },
  {
   "cell_type": "code",
   "execution_count": 9,
   "metadata": {},
   "outputs": [],
   "source": [
    "from pathlib import Path\n",
    "\n",
    "import matplotlib.pyplot as plt\n",
    "import numpy as np\n",
    "import seaborn as sns\n",
    "from scipy.stats import t\n",
    "from rich import print\n",
    "\n",
    "from neurodesign import Experiment, Optimisation\n",
    "\n",
    "# for testing\n",
    "cycles = 2 \n",
    "sims = 2\n",
    "\n",
    "output_dir = Path(\"output\")\n",
    "output_dir.mkdir(parents=True, exist_ok=True)\n",
    "\n",
    "# cycles = 1000\n",
    "# sims = 5000"
   ]
  },
  {
   "cell_type": "markdown",
   "metadata": {},
   "source": [
    "## Optimise designs"
   ]
  },
  {
   "cell_type": "markdown",
   "metadata": {},
   "source": [
    "First we define the experiment.\n",
    "We will optimise an experiment with a TR of 2 seconds and 250 trials of 0.5 seconds each.\n",
    "There are 4 stimulus types, and we are interested in the shared effect of the first and second stimulus versus baseline, as well as the difference between the first and the fourth stimulus.  We assume an autoregressive temporal autocorrelation of 0.3.\n",
    "\n",
    "We sample ITI's from a truncated exponential distribution with minimum 0.3 seconds and maximum 4 seconds, and the mean is 1 second."
   ]
  },
  {
   "cell_type": "code",
   "execution_count": 3,
   "metadata": {},
   "outputs": [
    {
     "name": "stderr",
     "output_type": "stream",
     "text": [
      "/home/remi/github/neurodesign/neurodesign/classes.py:461: UserWarning: the resolution is adjusted to be a multiple of the TR.New resolution: 0.1\n",
      "  warnings.warn(\n",
      "/home/remi/github/neurodesign/neurodesign/classes.py:620: RuntimeWarning: divide by zero encountered in log\n",
      "  res = (h - 1) * np.log(s) + h * np.log(l) - l * s - np.log(gamma(h))\n"
     ]
    }
   ],
   "source": [
    "# define the experiment\n",
    "exp = Experiment(\n",
    "    TR=2,\n",
    "    n_trials=450,\n",
    "    P=[0.25, 0.25, 0.25],\n",
    "    C=[[1, 0, 0], [0, 1, 0], [0, 0, 1], [1, 0, -1]],\n",
    "    n_stimuli=3,\n",
    "    rho=0.3,\n",
    "    resolution=0.1,\n",
    "    stim_duration=1,\n",
    "    ITImodel=\"exponential\",\n",
    "    ITImin=0.3,\n",
    "    ITImean=1,\n",
    "    ITImax=4,\n",
    ")"
   ]
  },
  {
   "cell_type": "code",
   "execution_count": 4,
   "metadata": {},
   "outputs": [
    {
     "name": "stderr",
     "output_type": "stream",
     "text": [
      "100% |##################################################################################################################################|\n",
      "100% |##################################################################################################################################|\n"
     ]
    },
    {
     "data": {
      "text/plain": [
       "<neurodesign.classes.Optimisation at 0x7fce1868c690>"
      ]
     },
     "execution_count": 4,
     "metadata": {},
     "output_type": "execute_result"
    }
   ],
   "source": [
    "population_max = Optimisation(\n",
    "    experiment=exp,\n",
    "    weights=[0, 0.5, 0.25, 0.25],\n",
    "    preruncycles=cycles,\n",
    "    cycles=2,\n",
    "    optimisation=\"GA\",\n",
    ")\n",
    "\n",
    "population_max.optimise()"
   ]
  },
  {
   "cell_type": "code",
   "execution_count": 5,
   "metadata": {},
   "outputs": [],
   "source": [
    "exp.FeMax = population_max.exp.FeMax\n",
    "exp.FdMax = population_max.exp.FdMax"
   ]
  },
  {
   "cell_type": "markdown",
   "metadata": {},
   "source": [
    "Below we define two populations of designs.  We will optimise one using the genetic algorithm, and the other using randomly drawn designs.  \n",
    "\n",
    "We optimise for statistical power (weights = [0,1,0,0]).  We run 100 cycles."
   ]
  },
  {
   "cell_type": "code",
   "execution_count": 10,
   "metadata": {},
   "outputs": [],
   "source": [
    "population_ga = Optimisation(\n",
    "    experiment=exp,\n",
    "    weights=[0, 0.5, 0.25, 0.25],\n",
    "    preruncycles=2,\n",
    "    cycles=cycles,\n",
    "    seed=1,\n",
    "    outdes=5,\n",
    "    I=10,\n",
    "    folder=output_dir,\n",
    "    optimisation=\"GA\",\n",
    ")\n",
    "\n",
    "population_rn = Optimisation(\n",
    "    experiment=exp,\n",
    "    weights=[0, 0.5, 0.25, 0.25],\n",
    "    preruncycles=2,\n",
    "    cycles=cycles,\n",
    "    seed=100,\n",
    "    outdes=5,\n",
    "    I=50,\n",
    "    G=10,\n",
    "    folder=output_dir,\n",
    "    optimisation=\"simulation\",\n",
    ")"
   ]
  },
  {
   "cell_type": "code",
   "execution_count": 11,
   "metadata": {},
   "outputs": [
    {
     "name": "stderr",
     "output_type": "stream",
     "text": [
      "100% |##################################################################################################################################|\n"
     ]
    },
    {
     "data": {
      "text/plain": [
       "<neurodesign.classes.Optimisation at 0x7fce18554050>"
      ]
     },
     "execution_count": 11,
     "metadata": {},
     "output_type": "execute_result"
    }
   ],
   "source": [
    "population_ga.optimise()"
   ]
  },
  {
   "cell_type": "code",
   "execution_count": 12,
   "metadata": {},
   "outputs": [
    {
     "name": "stderr",
     "output_type": "stream",
     "text": [
      "100% |##################################################################################################################################|\n"
     ]
    },
    {
     "data": {
      "text/plain": [
       "<neurodesign.classes.Optimisation at 0x7fce18556b10>"
      ]
     },
     "execution_count": 12,
     "metadata": {},
     "output_type": "execute_result"
    }
   ],
   "source": [
    "population_rn.optimise()"
   ]
  },
  {
   "cell_type": "markdown",
   "metadata": {},
   "source": [
    "Below, we show how the efficiency scores improve over cycles for both algorithms, although the Genetic Algorithm clearly improves faster and reaches a higher plateau."
   ]
  },
  {
   "cell_type": "code",
   "execution_count": 13,
   "metadata": {},
   "outputs": [
    {
     "name": "stderr",
     "output_type": "stream",
     "text": [
      "/tmp/ipykernel_125437/2102259302.py:4: UserWarning: FigureCanvasAgg is non-interactive, and thus cannot be shown\n",
      "  plt.show()\n"
     ]
    }
   ],
   "source": [
    "plt.plot(population_ga.optima, label=\"Genetic Algorithm\")\n",
    "plt.plot(population_rn.optima, label=\"Simulation\")\n",
    "plt.legend()\n",
    "plt.show()\n",
    "plt.savefig(output_dir / \"test_scores.pdf\")"
   ]
  },
  {
   "cell_type": "markdown",
   "metadata": {},
   "source": [
    "Below, we repeat the random design generator, but we search only 100 designs and one generation.  As such, this is a random design."
   ]
  },
  {
   "cell_type": "code",
   "execution_count": 14,
   "metadata": {},
   "outputs": [
    {
     "name": "stderr",
     "output_type": "stream",
     "text": [
      "100% |##################################################################################################################################|\n"
     ]
    },
    {
     "data": {
      "text/plain": [
       "<neurodesign.classes.Optimisation at 0x7fce18042990>"
      ]
     },
     "execution_count": 14,
     "metadata": {},
     "output_type": "execute_result"
    }
   ],
   "source": [
    "# 1 gen\n",
    "population_jo = Optimisation(\n",
    "    experiment=exp,\n",
    "    weights=[0, 0.5, 0.25, 0.25],\n",
    "    preruncycles=1,\n",
    "    cycles=1,\n",
    "    seed=1,\n",
    "    outdes=5,\n",
    "    G=100,\n",
    "    folder=output_dir,\n",
    "    optimisation=\"simulation\",\n",
    ")\n",
    "population_jo.optimise()"
   ]
  },
  {
   "cell_type": "code",
   "execution_count": 15,
   "metadata": {},
   "outputs": [],
   "source": [
    "# collect scores and take average\n",
    "scores = [x.F for x in population_jo.designs]\n",
    "\n",
    "median_idx = np.where(scores == np.median(scores))[0][0]\n",
    "rnd_median = population_jo.designs[median_idx]\n",
    "\n",
    "# get PI\n",
    "BTI_l = np.percentile(scores, 5)\n",
    "BTI_u = np.percentile(scores, 95)"
   ]
  },
  {
   "cell_type": "code",
   "execution_count": 16,
   "metadata": {},
   "outputs": [
    {
     "name": "stdout",
     "output_type": "stream",
     "text": [
      "Optimisation score - random: 0.8816239610114612\n",
      "Optimisation score - genetic algorithm: 0.8786085367613324\n",
      "Optimisation score - simulation (90 percent PI): 0.6902549450819885-0.8277075038744323\n"
     ]
    }
   ],
   "source": [
    "print(\n",
    "    f\"Optimisation score - random: {population_rn.optima[::-1][0]}\\n\"\n",
    "    f\"Optimisation score - genetic algorithm: {population_ga.optima[::-1][0]}\\n\"\n",
    "    f\"Optimisation score - simulation (90 percent PI): {BTI_l}-{BTI_u}\"\n",
    ")"
   ]
  },
  {
   "cell_type": "markdown",
   "metadata": {},
   "source": [
    "Let's look at the resulting experimental designs."
   ]
  },
  {
   "cell_type": "code",
   "execution_count": 17,
   "metadata": {},
   "outputs": [],
   "source": [
    "des = np.array([population_ga.bestdesign.Xconv, population_rn.bestdesign.Xconv, rnd_median.Xconv])\n",
    "labels = [\"Genetic Algorithm\", \"Simulation\", \"Median random design\"]\n",
    "plt.figure(figsize=(10, 7))\n",
    "for ind, label in enumerate(labels):\n",
    "    plt.subplot(3, 1, ind + 1)\n",
    "    plt.plot(des[ind, :, :])\n",
    "    plt.title(label)\n",
    "    plt.tick_params(axis=\"x\", which=\"both\", bottom=\"off\", labelbottom=\"off\")\n",
    "\n",
    "plt.savefig(output_dir / \"designs.pdf\")"
   ]
  },
  {
   "cell_type": "code",
   "execution_count": 18,
   "metadata": {},
   "outputs": [],
   "source": [
    "des = np.array(\n",
    "    [population_ga.bestdesign.Xconv, population_rn.bestdesign.Xconv] + [x.Xconv for x in population_jo.designs]\n",
    ")"
   ]
  },
  {
   "cell_type": "markdown",
   "metadata": {},
   "source": [
    "## Simulate data\n",
    "\n",
    "We continue with the best designs from the two algorithms and the random design.  Below, we simulate data in one voxel that is significantly related to the task.   We assume beta values of (0.5, 0, -0.5)."
   ]
  },
  {
   "cell_type": "code",
   "execution_count": 19,
   "metadata": {},
   "outputs": [],
   "source": [
    "# create datatables\n",
    "tp = des.shape[1]\n",
    "Y = np.zeros([tp, sims, des.shape[0]])\n",
    "\n",
    "for i in range(sims):\n",
    "    rnd = np.random.normal(0, 1, tp)\n",
    "    for lb in range(Y.shape[2]):\n",
    "        Y[:, i, lb] = np.dot(des[lb, :, :], np.array([0.5, 0, -0.5])) + rnd\n",
    "\n",
    "ids = [0, 1, median_idx]"
   ]
  },
  {
   "cell_type": "code",
   "execution_count": 20,
   "metadata": {},
   "outputs": [
    {
     "data": {
      "text/plain": [
       "[<matplotlib.lines.Line2D at 0x7fce18b51250>]"
      ]
     },
     "execution_count": 20,
     "metadata": {},
     "output_type": "execute_result"
    }
   ],
   "source": [
    "plt.plot(Y[:, 1:3, 1])"
   ]
  },
  {
   "cell_type": "markdown",
   "metadata": {},
   "source": [
    "We analyse the data using `R` below."
   ]
  },
  {
   "cell_type": "code",
   "execution_count": 21,
   "metadata": {},
   "outputs": [
    {
     "name": "stderr",
     "output_type": "stream",
     "text": [
      "UsageError: Cell magic `%%R` not found.\n"
     ]
    }
   ],
   "source": [
    "%%R -i des,Y,sims,ids -o tvals_main,tvals_diff,pows\n",
    "tvals_main <- array(NA,dim=c(sims,3))\n",
    "tvals_diff <- array(NA,dim=c(sims,3))\n",
    "pows <- array(NA,dim=c(dim(Y)[3],2))\n",
    "\n",
    "threshold <- qt(0.95,df=(dim(des)[2]-2))\n",
    "\n",
    "i = 1\n",
    "for (method in 1:dim(Y)[3]){\n",
    "    ts_main <- c()\n",
    "    ts_diff <- c()\n",
    "    for (sim in 1:sims){\n",
    "        dif <- des[method,,1]-des[method,,2]\n",
    "        fit_main <- lm(Y[,sim,method]~des[method,,])\n",
    "        fit_diff <- lm(Y[,sim,method]~dif)\n",
    "        ts_main[sim] <- summary(fit_main)$coef[2,3]\n",
    "        ts_diff[sim] <- summary(fit_diff)$coef[2,3]\n",
    "        }\n",
    "    if ((method-1) %in% ids){\n",
    "        tvals_main[,i] <- ts_main\n",
    "        tvals_diff[,i] <- ts_diff\n",
    "        i <- i+1\n",
    "    }\n",
    "    pows[method,1] <- mean(ts_main>threshold)\n",
    "    pows[method,2] <- mean(ts_diff>threshold)\n",
    "}"
   ]
  },
  {
   "cell_type": "markdown",
   "metadata": {},
   "source": [
    "This is what the distributions for the two contrasts look like."
   ]
  },
  {
   "cell_type": "code",
   "execution_count": 22,
   "metadata": {},
   "outputs": [
    {
     "ename": "NameError",
     "evalue": "name 'tvals_main' is not defined",
     "output_type": "error",
     "traceback": [
      "\u001b[0;31m---------------------------------------------------------------------------\u001b[0m",
      "\u001b[0;31mNameError\u001b[0m                                 Traceback (most recent call last)",
      "Cell \u001b[0;32mIn[22], line 5\u001b[0m\n\u001b[1;32m      3\u001b[0m nms \u001b[38;5;241m=\u001b[39m [\u001b[38;5;124m\"\u001b[39m\u001b[38;5;124mMain effect\u001b[39m\u001b[38;5;124m\"\u001b[39m, \u001b[38;5;124m\"\u001b[39m\u001b[38;5;124mContrast effect\u001b[39m\u001b[38;5;124m\"\u001b[39m]\n\u001b[1;32m      4\u001b[0m plt\u001b[38;5;241m.\u001b[39mfigure(figsize\u001b[38;5;241m=\u001b[39m(\u001b[38;5;241m18\u001b[39m, \u001b[38;5;241m4\u001b[39m))\n\u001b[0;32m----> 5\u001b[0m \u001b[38;5;28;01mfor\u001b[39;00m idx, tv \u001b[38;5;129;01min\u001b[39;00m \u001b[38;5;28menumerate\u001b[39m([\u001b[43mtvals_main\u001b[49m, tvals_diff]):\n\u001b[1;32m      6\u001b[0m     plt\u001b[38;5;241m.\u001b[39msubplot(\u001b[38;5;241m1\u001b[39m, \u001b[38;5;241m2\u001b[39m, idx \u001b[38;5;241m+\u001b[39m \u001b[38;5;241m1\u001b[39m)\n\u001b[1;32m      7\u001b[0m     \u001b[38;5;28;01mfor\u001b[39;00m idy, method \u001b[38;5;129;01min\u001b[39;00m \u001b[38;5;28menumerate\u001b[39m(labels):\n",
      "\u001b[0;31mNameError\u001b[0m: name 'tvals_main' is not defined"
     ]
    }
   ],
   "source": [
    "from pathlib import Path\n",
    "\n",
    "nms = [\"Main effect\", \"Contrast effect\"]\n",
    "plt.figure(figsize=(18, 4))\n",
    "for idx, tv in enumerate([tvals_main, tvals_diff]):\n",
    "    plt.subplot(1, 2, idx + 1)\n",
    "    for idy, method in enumerate(labels):\n",
    "        sns.distplot(tv[:, idy], label=method)\n",
    "    plt.title(nms[idx])\n",
    "plt.legend()\n",
    "\n",
    "plt.savefig(output_dir / \"distributions.pdf\")"
   ]
  },
  {
   "cell_type": "code",
   "execution_count": 23,
   "metadata": {},
   "outputs": [
    {
     "ename": "NameError",
     "evalue": "name 'pows' is not defined",
     "output_type": "error",
     "traceback": [
      "\u001b[0;31m---------------------------------------------------------------------------\u001b[0m",
      "\u001b[0;31mNameError\u001b[0m                                 Traceback (most recent call last)",
      "Cell \u001b[0;32mIn[23], line 1\u001b[0m\n\u001b[0;32m----> 1\u001b[0m \u001b[43mpows\u001b[49m\u001b[38;5;241m.\u001b[39mshape\n",
      "\u001b[0;31mNameError\u001b[0m: name 'pows' is not defined"
     ]
    }
   ],
   "source": [
    "pows.shape"
   ]
  },
  {
   "cell_type": "markdown",
   "metadata": {},
   "source": [
    "## Observed power"
   ]
  },
  {
   "cell_type": "code",
   "execution_count": 24,
   "metadata": {},
   "outputs": [
    {
     "ename": "NameError",
     "evalue": "name 'pows' is not defined",
     "output_type": "error",
     "traceback": [
      "\u001b[0;31m---------------------------------------------------------------------------\u001b[0m",
      "\u001b[0;31mNameError\u001b[0m                                 Traceback (most recent call last)",
      "Cell \u001b[0;32mIn[24], line 8\u001b[0m\n\u001b[1;32m      6\u001b[0m \u001b[38;5;28;01mfor\u001b[39;00m idy, method \u001b[38;5;129;01min\u001b[39;00m \u001b[38;5;28menumerate\u001b[39m(labels):\n\u001b[1;32m      7\u001b[0m     \u001b[38;5;28;01mif\u001b[39;00m idy \u001b[38;5;241m<\u001b[39m \u001b[38;5;241m2\u001b[39m:\n\u001b[0;32m----> 8\u001b[0m         \u001b[38;5;28mprint\u001b[39m(\u001b[38;5;124m\"\u001b[39m\u001b[38;5;124mThe power for the \u001b[39m\u001b[38;5;132;01m%s\u001b[39;00m\u001b[38;5;124m with \u001b[39m\u001b[38;5;132;01m%s\u001b[39;00m\u001b[38;5;124m: \u001b[39m\u001b[38;5;132;01m%f\u001b[39;00m\u001b[38;5;124m\"\u001b[39m \u001b[38;5;241m%\u001b[39m (nms[idx], method, \u001b[43mpows\u001b[49m[idy, idx]))\n\u001b[1;32m      9\u001b[0m med \u001b[38;5;241m=\u001b[39m np\u001b[38;5;241m.\u001b[39mpercentile(pows[\u001b[38;5;241m2\u001b[39m:, idx], \u001b[38;5;241m50\u001b[39m)\n\u001b[1;32m     10\u001b[0m ll \u001b[38;5;241m=\u001b[39m np\u001b[38;5;241m.\u001b[39mpercentile(pows[\u001b[38;5;241m2\u001b[39m:, idx], \u001b[38;5;241m5\u001b[39m)\n",
      "\u001b[0;31mNameError\u001b[0m: name 'pows' is not defined"
     ]
    }
   ],
   "source": [
    "# We're assuming a single threshold on a single test, a representative simplification.\n",
    "threshold = t.ppf(0.95, des.shape[1] - 2)\n",
    "nms = [\"main effect\", \"contrast effect\"]\n",
    "out = {label: [] for label in labels}\n",
    "for idx in range(2):\n",
    "    for idy, method in enumerate(labels):\n",
    "        if idy < 2:\n",
    "            print(\"The power for the %s with %s: %f\" % (nms[idx], method, pows[idy, idx]))\n",
    "    med = np.percentile(pows[2:, idx], 50)\n",
    "    ll = np.percentile(pows[2:, idx], 5)\n",
    "    ul = np.percentile(pows[2:, idx], 95)\n",
    "    print(\"The median for the %s with a randomly drawn design: %f\" % (nms[idx], med))\n",
    "    print(\n",
    "        \"The 90 percent PI for the %s with a randomly drawn design: %f-%f\"\n",
    "        % (nms[idx], ll, ul)\n",
    "    )"
   ]
  }
 ],
 "metadata": {
  "kernelspec": {
   "display_name": "Python 3 (ipykernel)",
   "language": "python",
   "name": "python3"
  },
  "language_info": {
   "codemirror_mode": {
    "name": "ipython",
    "version": 3
   },
   "file_extension": ".py",
   "mimetype": "text/x-python",
   "name": "python",
   "nbconvert_exporter": "python",
   "pygments_lexer": "ipython3",
   "version": "3.11.3"
  }
 },
 "nbformat": 4,
 "nbformat_minor": 4
}
